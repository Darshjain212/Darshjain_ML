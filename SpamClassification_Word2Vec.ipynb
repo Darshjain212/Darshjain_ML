{
 "cells": [
  {
   "cell_type": "code",
   "execution_count": 1,
   "id": "0ff334a2-658f-4b40-8183-42f46f88d180",
   "metadata": {},
   "outputs": [
    {
     "data": {
      "text/html": [
       "<div>\n",
       "<style scoped>\n",
       "    .dataframe tbody tr th:only-of-type {\n",
       "        vertical-align: middle;\n",
       "    }\n",
       "\n",
       "    .dataframe tbody tr th {\n",
       "        vertical-align: top;\n",
       "    }\n",
       "\n",
       "    .dataframe thead th {\n",
       "        text-align: right;\n",
       "    }\n",
       "</style>\n",
       "<table border=\"1\" class=\"dataframe\">\n",
       "  <thead>\n",
       "    <tr style=\"text-align: right;\">\n",
       "      <th></th>\n",
       "      <th>Unnamed: 0</th>\n",
       "      <th>label</th>\n",
       "      <th>text</th>\n",
       "      <th>label_num</th>\n",
       "    </tr>\n",
       "  </thead>\n",
       "  <tbody>\n",
       "    <tr>\n",
       "      <th>0</th>\n",
       "      <td>605</td>\n",
       "      <td>ham</td>\n",
       "      <td>Subject: enron methanol ; meter # : 988291\\r\\n...</td>\n",
       "      <td>0</td>\n",
       "    </tr>\n",
       "    <tr>\n",
       "      <th>1</th>\n",
       "      <td>2349</td>\n",
       "      <td>ham</td>\n",
       "      <td>Subject: hpl nom for january 9 , 2001\\r\\n( see...</td>\n",
       "      <td>0</td>\n",
       "    </tr>\n",
       "    <tr>\n",
       "      <th>2</th>\n",
       "      <td>3624</td>\n",
       "      <td>ham</td>\n",
       "      <td>Subject: neon retreat\\r\\nho ho ho , we ' re ar...</td>\n",
       "      <td>0</td>\n",
       "    </tr>\n",
       "    <tr>\n",
       "      <th>3</th>\n",
       "      <td>4685</td>\n",
       "      <td>spam</td>\n",
       "      <td>Subject: photoshop , windows , office . cheap ...</td>\n",
       "      <td>1</td>\n",
       "    </tr>\n",
       "    <tr>\n",
       "      <th>4</th>\n",
       "      <td>2030</td>\n",
       "      <td>ham</td>\n",
       "      <td>Subject: re : indian springs\\r\\nthis deal is t...</td>\n",
       "      <td>0</td>\n",
       "    </tr>\n",
       "  </tbody>\n",
       "</table>\n",
       "</div>"
      ],
      "text/plain": [
       "   Unnamed: 0 label                                               text  \\\n",
       "0         605   ham  Subject: enron methanol ; meter # : 988291\\r\\n...   \n",
       "1        2349   ham  Subject: hpl nom for january 9 , 2001\\r\\n( see...   \n",
       "2        3624   ham  Subject: neon retreat\\r\\nho ho ho , we ' re ar...   \n",
       "3        4685  spam  Subject: photoshop , windows , office . cheap ...   \n",
       "4        2030   ham  Subject: re : indian springs\\r\\nthis deal is t...   \n",
       "\n",
       "   label_num  \n",
       "0          0  \n",
       "1          0  \n",
       "2          0  \n",
       "3          1  \n",
       "4          0  "
      ]
     },
     "execution_count": 1,
     "metadata": {},
     "output_type": "execute_result"
    }
   ],
   "source": [
    "import numpy as np\n",
    "import pandas as pd\n",
    "df=pd.read_csv('spam_ham_dataset.csv/spam_ham_dataset.csv')\n",
    "df.head()"
   ]
  },
  {
   "cell_type": "code",
   "execution_count": 2,
   "id": "d5c46d10-1bbe-45dc-8495-d0b9ee02fabb",
   "metadata": {},
   "outputs": [
    {
     "data": {
      "text/html": [
       "<div>\n",
       "<style scoped>\n",
       "    .dataframe tbody tr th:only-of-type {\n",
       "        vertical-align: middle;\n",
       "    }\n",
       "\n",
       "    .dataframe tbody tr th {\n",
       "        vertical-align: top;\n",
       "    }\n",
       "\n",
       "    .dataframe thead th {\n",
       "        text-align: right;\n",
       "    }\n",
       "</style>\n",
       "<table border=\"1\" class=\"dataframe\">\n",
       "  <thead>\n",
       "    <tr style=\"text-align: right;\">\n",
       "      <th></th>\n",
       "      <th>Unnamed: 0</th>\n",
       "      <th>label</th>\n",
       "      <th>text</th>\n",
       "      <th>label_num</th>\n",
       "    </tr>\n",
       "  </thead>\n",
       "  <tbody>\n",
       "    <tr>\n",
       "      <th>5166</th>\n",
       "      <td>1518</td>\n",
       "      <td>ham</td>\n",
       "      <td>Subject: put the 10 on the ft\\r\\nthe transport...</td>\n",
       "      <td>0</td>\n",
       "    </tr>\n",
       "    <tr>\n",
       "      <th>5167</th>\n",
       "      <td>404</td>\n",
       "      <td>ham</td>\n",
       "      <td>Subject: 3 / 4 / 2000 and following noms\\r\\nhp...</td>\n",
       "      <td>0</td>\n",
       "    </tr>\n",
       "    <tr>\n",
       "      <th>5168</th>\n",
       "      <td>2933</td>\n",
       "      <td>ham</td>\n",
       "      <td>Subject: calpine daily gas nomination\\r\\n&gt;\\r\\n...</td>\n",
       "      <td>0</td>\n",
       "    </tr>\n",
       "    <tr>\n",
       "      <th>5169</th>\n",
       "      <td>1409</td>\n",
       "      <td>ham</td>\n",
       "      <td>Subject: industrial worksheets for august 2000...</td>\n",
       "      <td>0</td>\n",
       "    </tr>\n",
       "    <tr>\n",
       "      <th>5170</th>\n",
       "      <td>4807</td>\n",
       "      <td>spam</td>\n",
       "      <td>Subject: important online banking alert\\r\\ndea...</td>\n",
       "      <td>1</td>\n",
       "    </tr>\n",
       "  </tbody>\n",
       "</table>\n",
       "</div>"
      ],
      "text/plain": [
       "      Unnamed: 0 label                                               text  \\\n",
       "5166        1518   ham  Subject: put the 10 on the ft\\r\\nthe transport...   \n",
       "5167         404   ham  Subject: 3 / 4 / 2000 and following noms\\r\\nhp...   \n",
       "5168        2933   ham  Subject: calpine daily gas nomination\\r\\n>\\r\\n...   \n",
       "5169        1409   ham  Subject: industrial worksheets for august 2000...   \n",
       "5170        4807  spam  Subject: important online banking alert\\r\\ndea...   \n",
       "\n",
       "      label_num  \n",
       "5166          0  \n",
       "5167          0  \n",
       "5168          0  \n",
       "5169          0  \n",
       "5170          1  "
      ]
     },
     "execution_count": 2,
     "metadata": {},
     "output_type": "execute_result"
    }
   ],
   "source": [
    "df.tail()"
   ]
  },
  {
   "cell_type": "code",
   "execution_count": 3,
   "id": "f279b053-e218-4239-adae-4d6f05cbc8a0",
   "metadata": {},
   "outputs": [
    {
     "name": "stdout",
     "output_type": "stream",
     "text": [
      "<class 'pandas.core.frame.DataFrame'>\n",
      "RangeIndex: 5171 entries, 0 to 5170\n",
      "Data columns (total 4 columns):\n",
      " #   Column      Non-Null Count  Dtype \n",
      "---  ------      --------------  ----- \n",
      " 0   Unnamed: 0  5171 non-null   int64 \n",
      " 1   label       5171 non-null   object\n",
      " 2   text        5171 non-null   object\n",
      " 3   label_num   5171 non-null   int64 \n",
      "dtypes: int64(2), object(2)\n",
      "memory usage: 161.7+ KB\n"
     ]
    }
   ],
   "source": [
    "df.info()"
   ]
  },
  {
   "cell_type": "code",
   "execution_count": 4,
   "id": "0d601baf-4619-45fd-b68c-0855baf104d5",
   "metadata": {},
   "outputs": [
    {
     "data": {
      "text/plain": [
       "Unnamed: 0    0\n",
       "label         0\n",
       "text          0\n",
       "label_num     0\n",
       "dtype: int64"
      ]
     },
     "execution_count": 4,
     "metadata": {},
     "output_type": "execute_result"
    }
   ],
   "source": [
    "df.isna().sum()"
   ]
  },
  {
   "cell_type": "code",
   "execution_count": 6,
   "id": "18f9a380-ce83-46e6-961c-6203c8d41c07",
   "metadata": {},
   "outputs": [
    {
     "name": "stdout",
     "output_type": "stream",
     "text": [
      "Collecting seaborn\n",
      "  Downloading seaborn-0.13.2-py3-none-any.whl.metadata (5.4 kB)\n",
      "Requirement already satisfied: numpy!=1.24.0,>=1.20 in c:\\users\\deepak jain\\appdata\\local\\programs\\python\\python311\\lib\\site-packages (from seaborn) (1.24.3)\n",
      "Requirement already satisfied: pandas>=1.2 in c:\\users\\deepak jain\\appdata\\local\\programs\\python\\python311\\lib\\site-packages (from seaborn) (2.0.3)\n",
      "Requirement already satisfied: matplotlib!=3.6.1,>=3.4 in c:\\users\\deepak jain\\appdata\\local\\programs\\python\\python311\\lib\\site-packages (from seaborn) (3.7.2)\n",
      "Requirement already satisfied: contourpy>=1.0.1 in c:\\users\\deepak jain\\appdata\\local\\programs\\python\\python311\\lib\\site-packages (from matplotlib!=3.6.1,>=3.4->seaborn) (1.1.0)\n",
      "Requirement already satisfied: cycler>=0.10 in c:\\users\\deepak jain\\appdata\\local\\programs\\python\\python311\\lib\\site-packages (from matplotlib!=3.6.1,>=3.4->seaborn) (0.11.0)\n",
      "Requirement already satisfied: fonttools>=4.22.0 in c:\\users\\deepak jain\\appdata\\local\\programs\\python\\python311\\lib\\site-packages (from matplotlib!=3.6.1,>=3.4->seaborn) (4.42.0)\n",
      "Requirement already satisfied: kiwisolver>=1.0.1 in c:\\users\\deepak jain\\appdata\\local\\programs\\python\\python311\\lib\\site-packages (from matplotlib!=3.6.1,>=3.4->seaborn) (1.4.4)\n",
      "Requirement already satisfied: packaging>=20.0 in c:\\users\\deepak jain\\appdata\\local\\programs\\python\\python311\\lib\\site-packages (from matplotlib!=3.6.1,>=3.4->seaborn) (23.1)\n",
      "Requirement already satisfied: pillow>=6.2.0 in c:\\users\\deepak jain\\appdata\\local\\programs\\python\\python311\\lib\\site-packages (from matplotlib!=3.6.1,>=3.4->seaborn) (10.0.0)\n",
      "Requirement already satisfied: pyparsing<3.1,>=2.3.1 in c:\\users\\deepak jain\\appdata\\local\\programs\\python\\python311\\lib\\site-packages (from matplotlib!=3.6.1,>=3.4->seaborn) (3.0.9)\n",
      "Requirement already satisfied: python-dateutil>=2.7 in c:\\users\\deepak jain\\appdata\\local\\programs\\python\\python311\\lib\\site-packages (from matplotlib!=3.6.1,>=3.4->seaborn) (2.8.2)\n",
      "Requirement already satisfied: pytz>=2020.1 in c:\\users\\deepak jain\\appdata\\local\\programs\\python\\python311\\lib\\site-packages (from pandas>=1.2->seaborn) (2023.3)\n",
      "Requirement already satisfied: tzdata>=2022.1 in c:\\users\\deepak jain\\appdata\\local\\programs\\python\\python311\\lib\\site-packages (from pandas>=1.2->seaborn) (2023.3)\n",
      "Requirement already satisfied: six>=1.5 in c:\\users\\deepak jain\\appdata\\local\\programs\\python\\python311\\lib\\site-packages (from python-dateutil>=2.7->matplotlib!=3.6.1,>=3.4->seaborn) (1.16.0)\n",
      "Downloading seaborn-0.13.2-py3-none-any.whl (294 kB)\n",
      "   ---------------------------------------- 0.0/294.9 kB ? eta -:--:--\n",
      "   - -------------------------------------- 10.2/294.9 kB ? eta -:--:--\n",
      "   ---- ---------------------------------- 30.7/294.9 kB 435.7 kB/s eta 0:00:01\n",
      "   -------------- ----------------------- 112.6/294.9 kB 930.9 kB/s eta 0:00:01\n",
      "   -------------------------------------- - 286.7/294.9 kB 1.8 MB/s eta 0:00:01\n",
      "   -------------------------------------- - 286.7/294.9 kB 1.8 MB/s eta 0:00:01\n",
      "   -------------------------------------- - 286.7/294.9 kB 1.8 MB/s eta 0:00:01\n",
      "   ---------------------------------------- 294.9/294.9 kB 1.1 MB/s eta 0:00:00\n",
      "Installing collected packages: seaborn\n",
      "Successfully installed seaborn-0.13.2\n"
     ]
    },
    {
     "name": "stderr",
     "output_type": "stream",
     "text": [
      "\n",
      "[notice] A new release of pip is available: 23.3.1 -> 24.0\n",
      "[notice] To update, run: python.exe -m pip install --upgrade pip\n"
     ]
    }
   ],
   "source": [
    "!pip install seaborn"
   ]
  },
  {
   "cell_type": "code",
   "execution_count": 9,
   "id": "3451601c-fd9d-4734-b26a-533557cb1e01",
   "metadata": {},
   "outputs": [
    {
     "name": "stderr",
     "output_type": "stream",
     "text": [
      "C:\\Users\\deepak jain\\AppData\\Local\\Temp\\ipykernel_2780\\2108095891.py:2: FutureWarning: \n",
      "\n",
      "Passing `palette` without assigning `hue` is deprecated and will be removed in v0.14.0. Assign the `x` variable to `hue` and set `legend=False` for the same effect.\n",
      "\n",
      "  sns.countplot(x=\"label\", data=df, palette=[\"Orange\", \"skyblue\"])\n"
     ]
    },
    {
     "data": {
      "text/plain": [
       "<Axes: xlabel='label', ylabel='count'>"
      ]
     },
     "execution_count": 9,
     "metadata": {},
     "output_type": "execute_result"
    },
    {
     "data": {
      "image/png": "[encoded data removed]",
      "text/plain": [
       "<Figure size 640x480 with 1 Axes>"
      ]
     },
     "metadata": {},
     "output_type": "display_data"
    }
   ],
   "source": [
    "import seaborn as sns\n",
    "sns.countplot(x=\"label\", data=df, palette=[\"Orange\", \"skyblue\"])\n"
   ]
  },
  {
   "cell_type": "code",
   "execution_count": 10,
   "id": "3d82fbf9-b7ca-4866-a1f6-32697e767ee0",
   "metadata": {},
   "outputs": [
    {
     "data": {
      "text/plain": [
       "\"Subject: enron methanol ; meter # : 988291\\r\\nthis is a follow up to the note i gave you on monday , 4 / 3 / 00 { preliminary\\r\\nflow data provided by daren } .\\r\\nplease override pop ' s daily volume { presently zero } to reflect daily\\r\\nactivity you can obtain from gas control .\\r\\nthis change is needed asap for economics purposes .\""
      ]
     },
     "execution_count": 10,
     "metadata": {},
     "output_type": "execute_result"
    }
   ],
   "source": [
    "df['text'][0]"
   ]
  },
  {
   "cell_type": "code",
   "execution_count": 11,
   "id": "9ca121b5-26e1-411e-b38c-5318c6ef8624",
   "metadata": {},
   "outputs": [
    {
     "name": "stdout",
     "output_type": "stream",
     "text": [
      "Collecting contractions\n",
      "  Downloading contractions-0.1.73-py2.py3-none-any.whl (8.7 kB)\n",
      "Collecting textsearch>=0.0.21 (from contractions)\n",
      "  Downloading textsearch-0.0.24-py2.py3-none-any.whl (7.6 kB)\n",
      "Collecting anyascii (from textsearch>=0.0.21->contractions)\n",
      "  Downloading anyascii-0.3.2-py3-none-any.whl (289 kB)\n",
      "     ---------------------------------------- 0.0/289.9 kB ? eta -:--:--\n",
      "     - -------------------------------------- 10.2/289.9 kB ? eta -:--:--\n",
      "     ---------------- --------------------- 122.9/289.9 kB 1.8 MB/s eta 0:00:01\n",
      "     -------------------------------------  286.7/289.9 kB 2.9 MB/s eta 0:00:01\n",
      "     -------------------------------------- 289.9/289.9 kB 1.8 MB/s eta 0:00:00\n",
      "Collecting pyahocorasick (from textsearch>=0.0.21->contractions)\n",
      "  Downloading pyahocorasick-2.0.0-cp311-cp311-win_amd64.whl (39 kB)\n",
      "Installing collected packages: pyahocorasick, anyascii, textsearch, contractions\n",
      "Successfully installed anyascii-0.3.2 contractions-0.1.73 pyahocorasick-2.0.0 textsearch-0.0.24\n"
     ]
    },
    {
     "name": "stderr",
     "output_type": "stream",
     "text": [
      "\n",
      "[notice] A new release of pip is available: 23.3.1 -> 24.0\n",
      "[notice] To update, run: python.exe -m pip install --upgrade pip\n"
     ]
    }
   ],
   "source": [
    "!pip install contractions"
   ]
  },
  {
   "cell_type": "code",
   "execution_count": 12,
   "id": "aab667ce-8ec9-47f3-abb1-b8dfed2bf9b0",
   "metadata": {},
   "outputs": [
    {
     "name": "stderr",
     "output_type": "stream",
     "text": [
      "[nltk_data] Downloading package stopwords to C:\\Users\\deepak\n",
      "[nltk_data]     jain\\AppData\\Roaming\\nltk_data...\n",
      "[nltk_data]   Package stopwords is already up-to-date!\n"
     ]
    }
   ],
   "source": [
    "import contractions\n",
    "from tqdm import tqdm\n",
    "import nltk\n",
    "import re\n",
    "nltk.download('stopwords')\n",
    "from nltk.corpus import stopwords\n",
    "stopwords=stopwords.words('english')"
   ]
  },
  {
   "cell_type": "code",
   "execution_count": 13,
   "id": "fb0137bd-542a-40ef-ae5e-df335d42b3d3",
   "metadata": {},
   "outputs": [
    {
     "data": {
      "text/plain": [
       "['i',\n",
       " 'me',\n",
       " 'my',\n",
       " 'myself',\n",
       " 'we',\n",
       " 'our',\n",
       " 'ours',\n",
       " 'ourselves',\n",
       " 'you',\n",
       " \"you're\",\n",
       " \"you've\",\n",
       " \"you'll\",\n",
       " \"you'd\",\n",
       " 'your',\n",
       " 'yours',\n",
       " 'yourself',\n",
       " 'yourselves',\n",
       " 'he',\n",
       " 'him',\n",
       " 'his',\n",
       " 'himself',\n",
       " 'she',\n",
       " \"she's\",\n",
       " 'her',\n",
       " 'hers',\n",
       " 'herself',\n",
       " 'it',\n",
       " \"it's\",\n",
       " 'its',\n",
       " 'itself',\n",
       " 'they',\n",
       " 'them',\n",
       " 'their',\n",
       " 'theirs',\n",
       " 'themselves',\n",
       " 'what',\n",
       " 'which',\n",
       " 'who',\n",
       " 'whom',\n",
       " 'this',\n",
       " 'that',\n",
       " \"that'll\",\n",
       " 'these',\n",
       " 'those',\n",
       " 'am',\n",
       " 'is',\n",
       " 'are',\n",
       " 'was',\n",
       " 'were',\n",
       " 'be',\n",
       " 'been',\n",
       " 'being',\n",
       " 'have',\n",
       " 'has',\n",
       " 'had',\n",
       " 'having',\n",
       " 'do',\n",
       " 'does',\n",
       " 'did',\n",
       " 'doing',\n",
       " 'a',\n",
       " 'an',\n",
       " 'the',\n",
       " 'and',\n",
       " 'but',\n",
       " 'if',\n",
       " 'or',\n",
       " 'because',\n",
       " 'as',\n",
       " 'until',\n",
       " 'while',\n",
       " 'of',\n",
       " 'at',\n",
       " 'by',\n",
       " 'for',\n",
       " 'with',\n",
       " 'about',\n",
       " 'against',\n",
       " 'between',\n",
       " 'into',\n",
       " 'through',\n",
       " 'during',\n",
       " 'before',\n",
       " 'after',\n",
       " 'above',\n",
       " 'below',\n",
       " 'to',\n",
       " 'from',\n",
       " 'up',\n",
       " 'down',\n",
       " 'in',\n",
       " 'out',\n",
       " 'on',\n",
       " 'off',\n",
       " 'over',\n",
       " 'under',\n",
       " 'again',\n",
       " 'further',\n",
       " 'then',\n",
       " 'once',\n",
       " 'here',\n",
       " 'there',\n",
       " 'when',\n",
       " 'where',\n",
       " 'why',\n",
       " 'how',\n",
       " 'all',\n",
       " 'any',\n",
       " 'both',\n",
       " 'each',\n",
       " 'few',\n",
       " 'more',\n",
       " 'most',\n",
       " 'other',\n",
       " 'some',\n",
       " 'such',\n",
       " 'no',\n",
       " 'nor',\n",
       " 'not',\n",
       " 'only',\n",
       " 'own',\n",
       " 'same',\n",
       " 'so',\n",
       " 'than',\n",
       " 'too',\n",
       " 'very',\n",
       " 's',\n",
       " 't',\n",
       " 'can',\n",
       " 'will',\n",
       " 'just',\n",
       " 'don',\n",
       " \"don't\",\n",
       " 'should',\n",
       " \"should've\",\n",
       " 'now',\n",
       " 'd',\n",
       " 'll',\n",
       " 'm',\n",
       " 'o',\n",
       " 're',\n",
       " 've',\n",
       " 'y',\n",
       " 'ain',\n",
       " 'aren',\n",
       " \"aren't\",\n",
       " 'couldn',\n",
       " \"couldn't\",\n",
       " 'didn',\n",
       " \"didn't\",\n",
       " 'doesn',\n",
       " \"doesn't\",\n",
       " 'hadn',\n",
       " \"hadn't\",\n",
       " 'hasn',\n",
       " \"hasn't\",\n",
       " 'haven',\n",
       " \"haven't\",\n",
       " 'isn',\n",
       " \"isn't\",\n",
       " 'ma',\n",
       " 'mightn',\n",
       " \"mightn't\",\n",
       " 'mustn',\n",
       " \"mustn't\",\n",
       " 'needn',\n",
       " \"needn't\",\n",
       " 'shan',\n",
       " \"shan't\",\n",
       " 'shouldn',\n",
       " \"shouldn't\",\n",
       " 'wasn',\n",
       " \"wasn't\",\n",
       " 'weren',\n",
       " \"weren't\",\n",
       " 'won',\n",
       " \"won't\",\n",
       " 'wouldn',\n",
       " \"wouldn't\"]"
      ]
     },
     "execution_count": 13,
     "metadata": {},
     "output_type": "execute_result"
    }
   ],
   "source": [
    "stopwords"
   ]
  },
  {
   "cell_type": "code",
   "execution_count": 16,
   "id": "804f26a6-179e-4f31-8264-ea9a684c0950",
   "metadata": {},
   "outputs": [
    {
     "name": "stderr",
     "output_type": "stream",
     "text": [
      "100%|████████████████████████████████████████████████████████████████████████████| 5171/5171 [00:01<00:00, 3305.47it/s]\n"
     ]
    }
   ],
   "source": [
    "processed_mails=[]\n",
    "for i in tqdm(df['text']):\n",
    "    i=re.sub('(<[\\w\\s]*/?>)',\"\",i)\n",
    "    i=contractions.fix(i)\n",
    "    i=re.sub('[^a-zA-Z0-9\\s]+',\"\",i)\n",
    "    i=re.sub('\\d+',\"\",i)\n",
    "    processed_mails.append(\" \".join([j.lower() for j in i.split() if j not in stopwords and len(j)>=3]))"
   ]
  },
  {
   "cell_type": "code",
   "execution_count": 20,
   "id": "a1c80482-2306-4438-adf2-9d97ace6ae6b",
   "metadata": {},
   "outputs": [
    {
     "data": {
      "text/html": [
       "<div>\n",
       "<style scoped>\n",
       "    .dataframe tbody tr th:only-of-type {\n",
       "        vertical-align: middle;\n",
       "    }\n",
       "\n",
       "    .dataframe tbody tr th {\n",
       "        vertical-align: top;\n",
       "    }\n",
       "\n",
       "    .dataframe thead th {\n",
       "        text-align: right;\n",
       "    }\n",
       "</style>\n",
       "<table border=\"1\" class=\"dataframe\">\n",
       "  <thead>\n",
       "    <tr style=\"text-align: right;\">\n",
       "      <th></th>\n",
       "      <th>text</th>\n",
       "      <th>Spam/Ham</th>\n",
       "    </tr>\n",
       "  </thead>\n",
       "  <tbody>\n",
       "    <tr>\n",
       "      <th>0</th>\n",
       "      <td>subject enron methanol meter follow note gave ...</td>\n",
       "      <td>0</td>\n",
       "    </tr>\n",
       "    <tr>\n",
       "      <th>1</th>\n",
       "      <td>subject hpl nom january see attached file hpln...</td>\n",
       "      <td>0</td>\n",
       "    </tr>\n",
       "    <tr>\n",
       "      <th>2</th>\n",
       "      <td>subject neon retreat around wonderful time yea...</td>\n",
       "      <td>0</td>\n",
       "    </tr>\n",
       "    <tr>\n",
       "      <th>3</th>\n",
       "      <td>subject photoshop windows office cheap main tr...</td>\n",
       "      <td>1</td>\n",
       "    </tr>\n",
       "    <tr>\n",
       "      <th>4</th>\n",
       "      <td>subject indian springs deal book teco pvr reve...</td>\n",
       "      <td>0</td>\n",
       "    </tr>\n",
       "  </tbody>\n",
       "</table>\n",
       "</div>"
      ],
      "text/plain": [
       "                                                text  Spam/Ham\n",
       "0  subject enron methanol meter follow note gave ...         0\n",
       "1  subject hpl nom january see attached file hpln...         0\n",
       "2  subject neon retreat around wonderful time yea...         0\n",
       "3  subject photoshop windows office cheap main tr...         1\n",
       "4  subject indian springs deal book teco pvr reve...         0"
      ]
     },
     "execution_count": 20,
     "metadata": {},
     "output_type": "execute_result"
    }
   ],
   "source": [
    "\n",
    "processed_df=pd.DataFrame({'text':processed_mails,'Spam/Ham':df['label_num'].tolist()})\n",
    "processed_df.head()"
   ]
  },
  {
   "cell_type": "code",
   "execution_count": 22,
   "id": "6a3aae67-decf-428a-b108-d21bc3de1a47",
   "metadata": {},
   "outputs": [
    {
     "data": {
      "text/plain": [
       "text        0\n",
       "Spam/Ham    0\n",
       "dtype: int64"
      ]
     },
     "execution_count": 22,
     "metadata": {},
     "output_type": "execute_result"
    }
   ],
   "source": [
    "processed_df.isna().sum()"
   ]
  },
  {
   "cell_type": "code",
   "execution_count": 23,
   "id": "77a76f20-48b0-45f5-960f-568d153353dd",
   "metadata": {},
   "outputs": [],
   "source": [
    "Messages = processed_df.iloc[:,0]"
   ]
  },
  {
   "cell_type": "code",
   "execution_count": 24,
   "id": "cc8030b1-cce8-46db-8611-d79ffc60b0da",
   "metadata": {},
   "outputs": [
    {
     "data": {
      "text/plain": [
       "0       subject enron methanol meter follow note gave ...\n",
       "1       subject hpl nom january see attached file hpln...\n",
       "2       subject neon retreat around wonderful time yea...\n",
       "3       subject photoshop windows office cheap main tr...\n",
       "4       subject indian springs deal book teco pvr reve...\n",
       "                              ...                        \n",
       "5166    subject put transport volumes decreased contra...\n",
       "5167    subject following noms hpl take extra mmcf wee...\n",
       "5168    subject calpine daily gas nomination julie men...\n",
       "5169    subject industrial worksheets august activity ...\n",
       "5170    subject important online banking alert dear va...\n",
       "Name: text, Length: 5171, dtype: object"
      ]
     },
     "execution_count": 24,
     "metadata": {},
     "output_type": "execute_result"
    }
   ],
   "source": [
    "Messages"
   ]
  },
  {
   "cell_type": "code",
   "execution_count": 25,
   "id": "a2c55e0e-a8c2-4ff6-898b-25ed1b564b71",
   "metadata": {},
   "outputs": [],
   "source": [
    "X=processed_df['text']\n",
    "Y=processed_df['Spam/Ham']"
   ]
  },
  {
   "cell_type": "code",
   "execution_count": 27,
   "id": "c33b1b6b-cabd-4412-b392-a28cf7ba6cf8",
   "metadata": {},
   "outputs": [],
   "source": [
    "from sklearn.model_selection import train_test_split\n",
    "x_train,x_test,y_train,y_test=train_test_split(X,Y,stratify=Y,test_size=0.33 , random_state=42)"
   ]
  },
  {
   "cell_type": "markdown",
   "id": "3ad97295-6544-461e-b209-2bac0063d31a",
   "metadata": {},
   "source": [
    "# Training Using Method 1 "
   ]
  },
  {
   "cell_type": "code",
   "execution_count": 28,
   "id": "39eebbc9-369d-424b-adaf-8da5e8f5c2af",
   "metadata": {},
   "outputs": [],
   "source": [
    "import gensim\n",
    "from gensim.models import Word2Vec"
   ]
  },
  {
   "cell_type": "code",
   "execution_count": 29,
   "id": "3dde149c-e143-456a-836d-f32eee9cfbdd",
   "metadata": {},
   "outputs": [
    {
     "name": "stderr",
     "output_type": "stream",
     "text": [
      "100%|███████████████████████████████████████████████████████████████████████████| 3464/3464 [00:00<00:00, 89805.35it/s]\n"
     ]
    }
   ],
   "source": [
    "words_in_sentences=[]\n",
    "for i in tqdm(x_train):\n",
    "    words_in_sentences.append(i.split())"
   ]
  },
  {
   "cell_type": "code",
   "execution_count": 30,
   "id": "f609bd31-5062-4354-990c-a6fcd51fc935",
   "metadata": {},
   "outputs": [],
   "source": [
    "model = Word2Vec(sentences=words_in_sentences, vector_size=250,workers=-1)"
   ]
  },
  {
   "cell_type": "code",
   "execution_count": 31,
   "id": "2bbd6f86-c258-497a-92bf-8eb2e3b094c7",
   "metadata": {},
   "outputs": [
    {
     "data": {
      "text/plain": [
       "[('comic', 0.22756421566009521),\n",
       " ('spokesman', 0.2205696702003479),\n",
       " ('children', 0.2192104011774063),\n",
       " ('sidebacks', 0.20517535507678986),\n",
       " ('ire', 0.2041652351617813),\n",
       " ('log', 0.19883283972740173),\n",
       " ('dependent', 0.19566947221755981),\n",
       " ('imceanotes', 0.1932631880044937),\n",
       " ('golf', 0.19036513566970825),\n",
       " ('intranet', 0.18760475516319275)]"
      ]
     },
     "execution_count": 31,
     "metadata": {},
     "output_type": "execute_result"
    }
   ],
   "source": [
    "model.wv.most_similar('reward', topn=10)"
   ]
  },
  {
   "cell_type": "code",
   "execution_count": 32,
   "id": "3b7b6e2a-4ec0-4752-b7c8-8f0887e34938",
   "metadata": {},
   "outputs": [
    {
     "data": {
      "text/plain": [
       "array([ 8.3689692e-06, -3.7829280e-03,  2.0862294e-04,  2.6458479e-03,\n",
       "       -1.1291790e-04, -3.4983344e-03,  8.8510226e-04,  2.9669914e-03,\n",
       "        2.6372375e-03,  3.2172049e-03,  2.9505705e-03,  1.9237609e-03,\n",
       "       -6.6783192e-04, -2.4088749e-03,  2.3409587e-03,  4.1735030e-04,\n",
       "        2.4017559e-03,  2.3436737e-04, -4.8559619e-04, -5.3805544e-04,\n",
       "       -5.8349897e-04, -1.2676101e-03, -1.5895371e-03,  1.4588990e-03,\n",
       "       -1.4561915e-03, -3.9867009e-03,  2.0210275e-03,  1.6182151e-03,\n",
       "       -3.6371355e-03,  3.1868458e-05,  1.6282954e-03,  2.3211990e-03,\n",
       "        4.9556733e-05, -2.9496583e-03, -1.9632187e-03, -3.3140898e-04,\n",
       "        2.8119315e-03, -1.6826143e-03, -3.0585928e-03, -1.7782383e-03,\n",
       "        1.3974666e-03,  3.8479071e-03, -3.7874251e-03,  1.8600698e-03,\n",
       "       -3.4926229e-03,  2.2158695e-03, -7.0663641e-04, -2.4833803e-03,\n",
       "        2.3547506e-03,  3.6876174e-03, -1.8557310e-03,  1.1138545e-03,\n",
       "       -9.9376531e-04, -3.3679914e-03, -3.5243311e-03,  1.8705464e-03,\n",
       "       -2.3536244e-03, -5.2948191e-04,  1.5918087e-03,  6.7655084e-04,\n",
       "       -2.4749327e-03,  3.2877859e-03,  2.1971564e-03,  1.6007757e-04,\n",
       "        3.2655469e-03,  3.2324314e-03,  2.8763486e-03,  5.5811164e-04,\n",
       "        6.7532971e-04, -1.7857413e-03,  2.6909891e-03, -3.1160431e-03,\n",
       "        3.7034713e-03, -2.8753777e-03,  2.1336555e-05,  2.3361121e-03,\n",
       "        8.7838981e-04, -3.7236046e-03, -3.5659662e-03, -2.9530853e-03,\n",
       "       -4.0553714e-04, -3.6670966e-03, -3.4196677e-03,  1.6075482e-03,\n",
       "       -4.4122458e-04, -3.4185972e-03,  2.4655615e-03, -1.1630445e-03,\n",
       "        1.9816938e-03, -2.2333374e-03, -2.5569811e-03, -2.2412897e-03,\n",
       "       -2.0496417e-03,  3.9699173e-04, -4.2713736e-04,  1.3092303e-03,\n",
       "        1.9700937e-03, -3.0099486e-03,  3.8025994e-03,  3.2847505e-03,\n",
       "       -4.3263437e-05, -3.2905755e-03,  3.4528761e-03,  3.7450753e-03,\n",
       "        4.3022918e-04,  2.7931647e-03, -7.3203514e-04, -3.5050353e-03,\n",
       "       -1.6100073e-03, -1.0967093e-03, -1.1416355e-03, -3.2217025e-03,\n",
       "        1.8526220e-03,  1.8489418e-03,  1.0291457e-03, -3.7270379e-03,\n",
       "       -3.5041920e-03,  5.5076933e-04,  3.0094471e-03, -2.1634479e-03,\n",
       "       -2.8404493e-03, -2.2199436e-03, -3.6162473e-04,  2.7550411e-04,\n",
       "       -1.4144134e-04, -1.5830650e-03,  1.9075670e-03, -1.9194679e-03,\n",
       "       -2.6583858e-03, -3.4424982e-03,  1.7527781e-03, -3.5957827e-03,\n",
       "        3.4374857e-04, -3.5018491e-04,  5.9402181e-04, -1.1538281e-03,\n",
       "       -1.0797448e-03, -3.7106266e-03,  1.2158199e-03,  2.0289040e-04,\n",
       "        3.4072967e-03,  3.7117072e-03, -1.3161668e-03, -2.1729723e-03,\n",
       "       -3.9592982e-04,  3.8517481e-03, -2.5212583e-03, -2.7261968e-03,\n",
       "       -2.2884464e-04,  9.7764969e-05,  3.6946774e-04,  3.4766265e-03,\n",
       "       -8.3624886e-04,  1.1119046e-03, -3.8331388e-03,  5.4970977e-04,\n",
       "        2.1390710e-03,  2.9462071e-03,  1.4972530e-03, -2.8170289e-03,\n",
       "        7.2959473e-04, -1.2984219e-03,  2.1570229e-03,  1.1573429e-03,\n",
       "       -4.7071362e-04,  2.6969819e-03, -2.0911456e-04,  3.8545851e-03,\n",
       "       -1.6986289e-03, -2.0364227e-03, -6.9543649e-04,  1.0430770e-03,\n",
       "       -3.2964202e-03,  2.2834102e-03,  1.9402700e-03,  9.1456651e-04,\n",
       "        3.7413277e-03,  1.5048160e-03, -2.5307036e-03,  4.8090648e-04,\n",
       "        2.8948928e-04,  3.1015072e-03,  1.7026386e-03,  3.4869360e-03,\n",
       "       -9.6439221e-04, -2.9014277e-03,  2.9210707e-03, -1.1957713e-03,\n",
       "       -2.5240092e-03,  3.3784991e-03, -1.9242344e-03, -3.7934026e-03,\n",
       "       -8.2527782e-04,  2.9913096e-03, -2.0072351e-03, -6.1598205e-04,\n",
       "       -2.7010774e-03, -9.1766356e-04, -3.8787650e-03, -2.7887954e-03,\n",
       "        1.8600044e-03,  2.5808588e-03,  2.1288937e-03, -2.7303648e-04,\n",
       "        2.9617515e-03, -3.4671535e-03, -1.7984138e-03, -3.2537580e-03,\n",
       "        1.9829227e-03, -1.8820157e-03, -2.7940641e-03,  8.8271714e-04,\n",
       "       -8.7733316e-04,  2.7455998e-04,  1.1696845e-03,  2.4056653e-03,\n",
       "        8.8501215e-04,  2.9069618e-03, -3.8175751e-03, -1.2263537e-03,\n",
       "        1.7326832e-03, -6.3480041e-04, -2.0717296e-03,  3.7552933e-03,\n",
       "        3.1535658e-03,  1.9757298e-03,  2.0886168e-03,  2.0913740e-03,\n",
       "       -3.2294565e-03,  1.9595433e-04, -2.7250990e-03, -2.0277104e-03,\n",
       "       -2.8348227e-03,  1.6875333e-03,  2.6988310e-03, -2.5356307e-03,\n",
       "        1.8849683e-03, -1.1711440e-03, -3.5438328e-03, -2.5298533e-03,\n",
       "       -1.1657801e-03,  1.1448874e-03,  1.6440344e-03, -1.5056973e-03,\n",
       "       -1.0572567e-03, -3.3025865e-03, -4.4029808e-04, -1.1623550e-03,\n",
       "       -1.1946359e-03, -2.6717709e-04], dtype=float32)"
      ]
     },
     "execution_count": 32,
     "metadata": {},
     "output_type": "execute_result"
    }
   ],
   "source": [
    "model.wv.get_vector('job')"
   ]
  },
  {
   "cell_type": "code",
   "execution_count": 38,
   "id": "69a8ac7d-ae05-4e5b-9a9c-50ce25f46990",
   "metadata": {},
   "outputs": [],
   "source": [
    "list = []\n"
   ]
  },
  {
   "cell_type": "code",
   "execution_count": 40,
   "id": "ffd59f29-1735-4c35-bd0c-1eac6ee66482",
   "metadata": {},
   "outputs": [],
   "source": [
    "vocab = model.wv.key_to_index.keys()"
   ]
  },
  {
   "cell_type": "code",
   "execution_count": 41,
   "id": "73a1265a-29f9-49e4-bab4-cfc69be2ef39",
   "metadata": {},
   "outputs": [],
   "source": [
    "def avg_w2vec(sentences):\n",
    "    transformed=[]\n",
    "    for sentence in tqdm(sentences):\n",
    "        count=0\n",
    "        vector=np.zeros(250)\n",
    "        for word in sentence.split():\n",
    "            if word in vocab:\n",
    "                vector+=model.wv.get_vector(word)\n",
    "                count+=1\n",
    "        if count!=0:\n",
    "            vector/=count\n",
    "            transformed.append(vector)\n",
    "        else:\n",
    "            print(sentence)\n",
    "    return np.array(transformed)"
   ]
  },
  {
   "cell_type": "code",
   "execution_count": 42,
   "id": "c2fab17a-7fb6-4f07-a3b1-55783256fd95",
   "metadata": {},
   "outputs": [
    {
     "name": "stderr",
     "output_type": "stream",
     "text": [
      "100%|████████████████████████████████████████████████████████████████████████████| 3464/3464 [00:00<00:00, 5097.05it/s]\n",
      "100%|████████████████████████████████████████████████████████████████████████████| 1707/1707 [00:00<00:00, 5346.31it/s]\n"
     ]
    }
   ],
   "source": [
    "x_train_transformed=avg_w2vec(x_train)\n",
    "x_test_transformed=avg_w2vec(x_test)"
   ]
  },
  {
   "cell_type": "code",
   "execution_count": 43,
   "id": "52f7d353-0490-4858-acca-87d436b71bec",
   "metadata": {},
   "outputs": [
    {
     "data": {
      "text/html": [
       "<style>#sk-container-id-1 {color: black;}#sk-container-id-1 pre{padding: 0;}#sk-container-id-1 div.sk-toggleable {background-color: white;}#sk-container-id-1 label.sk-toggleable__label {cursor: pointer;display: block;width: 100%;margin-bottom: 0;padding: 0.3em;box-sizing: border-box;text-align: center;}#sk-container-id-1 label.sk-toggleable__label-arrow:before {content: \"▸\";float: left;margin-right: 0.25em;color: #696969;}#sk-container-id-1 label.sk-toggleable__label-arrow:hover:before {color: black;}#sk-container-id-1 div.sk-estimator:hover label.sk-toggleable__label-arrow:before {color: black;}#sk-container-id-1 div.sk-toggleable__content {max-height: 0;max-width: 0;overflow: hidden;text-align: left;background-color: #f0f8ff;}#sk-container-id-1 div.sk-toggleable__content pre {margin: 0.2em;color: black;border-radius: 0.25em;background-color: #f0f8ff;}#sk-container-id-1 input.sk-toggleable__control:checked~div.sk-toggleable__content {max-height: 200px;max-width: 100%;overflow: auto;}#sk-container-id-1 input.sk-toggleable__control:checked~label.sk-toggleable__label-arrow:before {content: \"▾\";}#sk-container-id-1 div.sk-estimator input.sk-toggleable__control:checked~label.sk-toggleable__label {background-color: #d4ebff;}#sk-container-id-1 div.sk-label input.sk-toggleable__control:checked~label.sk-toggleable__label {background-color: #d4ebff;}#sk-container-id-1 input.sk-hidden--visually {border: 0;clip: rect(1px 1px 1px 1px);clip: rect(1px, 1px, 1px, 1px);height: 1px;margin: -1px;overflow: hidden;padding: 0;position: absolute;width: 1px;}#sk-container-id-1 div.sk-estimator {font-family: monospace;background-color: #f0f8ff;border: 1px dotted black;border-radius: 0.25em;box-sizing: border-box;margin-bottom: 0.5em;}#sk-container-id-1 div.sk-estimator:hover {background-color: #d4ebff;}#sk-container-id-1 div.sk-parallel-item::after {content: \"\";width: 100%;border-bottom: 1px solid gray;flex-grow: 1;}#sk-container-id-1 div.sk-label:hover label.sk-toggleable__label {background-color: #d4ebff;}#sk-container-id-1 div.sk-serial::before {content: \"\";position: absolute;border-left: 1px solid gray;box-sizing: border-box;top: 0;bottom: 0;left: 50%;z-index: 0;}#sk-container-id-1 div.sk-serial {display: flex;flex-direction: column;align-items: center;background-color: white;padding-right: 0.2em;padding-left: 0.2em;position: relative;}#sk-container-id-1 div.sk-item {position: relative;z-index: 1;}#sk-container-id-1 div.sk-parallel {display: flex;align-items: stretch;justify-content: center;background-color: white;position: relative;}#sk-container-id-1 div.sk-item::before, #sk-container-id-1 div.sk-parallel-item::before {content: \"\";position: absolute;border-left: 1px solid gray;box-sizing: border-box;top: 0;bottom: 0;left: 50%;z-index: -1;}#sk-container-id-1 div.sk-parallel-item {display: flex;flex-direction: column;z-index: 1;position: relative;background-color: white;}#sk-container-id-1 div.sk-parallel-item:first-child::after {align-self: flex-end;width: 50%;}#sk-container-id-1 div.sk-parallel-item:last-child::after {align-self: flex-start;width: 50%;}#sk-container-id-1 div.sk-parallel-item:only-child::after {width: 0;}#sk-container-id-1 div.sk-dashed-wrapped {border: 1px dashed gray;margin: 0 0.4em 0.5em 0.4em;box-sizing: border-box;padding-bottom: 0.4em;background-color: white;}#sk-container-id-1 div.sk-label label {font-family: monospace;font-weight: bold;display: inline-block;line-height: 1.2em;}#sk-container-id-1 div.sk-label-container {text-align: center;}#sk-container-id-1 div.sk-container {/* jupyter's `normalize.less` sets `[hidden] { display: none; }` but bootstrap.min.css set `[hidden] { display: none !important; }` so we also need the `!important` here to be able to override the default hidden behavior on the sphinx rendered scikit-learn.org. See: https://github.com/scikit-learn/scikit-learn/issues/21755 */display: inline-block !important;position: relative;}#sk-container-id-1 div.sk-text-repr-fallback {display: none;}</style><div id=\"sk-container-id-1\" class=\"sk-top-container\"><div class=\"sk-text-repr-fallback\"><pre>RandomForestClassifier(max_depth=9, n_estimators=30)</pre><b>In a Jupyter environment, please rerun this cell to show the HTML representation or trust the notebook. <br />On GitHub, the HTML representation is unable to render, please try loading this page with nbviewer.org.</b></div><div class=\"sk-container\" hidden><div class=\"sk-item\"><div class=\"sk-estimator sk-toggleable\"><input class=\"sk-toggleable__control sk-hidden--visually\" id=\"sk-estimator-id-1\" type=\"checkbox\" checked><label for=\"sk-estimator-id-1\" class=\"sk-toggleable__label sk-toggleable__label-arrow\">RandomForestClassifier</label><div class=\"sk-toggleable__content\"><pre>RandomForestClassifier(max_depth=9, n_estimators=30)</pre></div></div></div></div></div>"
      ],
      "text/plain": [
       "RandomForestClassifier(max_depth=9, n_estimators=30)"
      ]
     },
     "execution_count": 43,
     "metadata": {},
     "output_type": "execute_result"
    }
   ],
   "source": [
    "from sklearn.ensemble import RandomForestClassifier\n",
    "# n_estimators = number of decision trees\n",
    "rf = RandomForestClassifier(n_estimators=30, max_depth=9)\n",
    "rf.fit(x_train_transformed, y_train)"
   ]
  },
  {
   "cell_type": "code",
   "execution_count": 44,
   "id": "f6598938-7ee3-4257-b553-46477b5f4fff",
   "metadata": {},
   "outputs": [
    {
     "data": {
      "text/plain": [
       "{'bootstrap': True,\n",
       " 'ccp_alpha': 0.0,\n",
       " 'class_weight': None,\n",
       " 'criterion': 'gini',\n",
       " 'max_depth': 9,\n",
       " 'max_features': 'sqrt',\n",
       " 'max_leaf_nodes': None,\n",
       " 'max_samples': None,\n",
       " 'min_impurity_decrease': 0.0,\n",
       " 'min_samples_leaf': 1,\n",
       " 'min_samples_split': 2,\n",
       " 'min_weight_fraction_leaf': 0.0,\n",
       " 'n_estimators': 30,\n",
       " 'n_jobs': None,\n",
       " 'oob_score': False,\n",
       " 'random_state': None,\n",
       " 'verbose': 0,\n",
       " 'warm_start': False}"
      ]
     },
     "execution_count": 44,
     "metadata": {},
     "output_type": "execute_result"
    }
   ],
   "source": [
    "rf.get_params()"
   ]
  },
  {
   "cell_type": "code",
   "execution_count": 47,
   "id": "834681af-d045-465e-bc57-26c06e8a4806",
   "metadata": {},
   "outputs": [],
   "source": [
    "from sklearn.metrics import roc_curve, auc,classification_report,confusion_matrix\n",
    "train_fpr,train_tpr,thresholds=roc_curve(y_train,rf.predict_proba(x_train_transformed)[:,1])\n",
    "test_fpr,test_tpr,thresholds=roc_curve(y_test,rf.predict_proba(x_test_transformed)[:,1])"
   ]
  },
  {
   "cell_type": "code",
   "execution_count": 48,
   "id": "c6518148-6390-4049-bf27-b133254c629f",
   "metadata": {},
   "outputs": [
    {
     "data": {
      "image/png": "[encoded data removed]",
      "text/plain": [
       "<Figure size 640x480 with 1 Axes>"
      ]
     },
     "metadata": {},
     "output_type": "display_data"
    }
   ],
   "source": [
    "import matplotlib.pyplot as plt\n",
    "plt.plot(train_fpr,train_tpr,label=\"Training Accuracy=\"+str(round(auc(train_fpr, train_tpr),2)))\n",
    "plt.plot(test_fpr,test_tpr,label=\"Testing Accuracy =\"+str(round(auc(test_fpr, test_tpr),2)))\n",
    "plt.scatter(train_fpr,train_tpr,label=\"Training Accuracy=\"+str(round(auc(train_fpr, train_tpr),2)))\n",
    "plt.scatter(test_fpr,test_tpr,label=\"Testing Accuracy =\"+str(round(auc(test_fpr, test_tpr),2)))\n",
    "plt.legend()\n",
    "plt.xlabel(\"Thresholds\")\n",
    "plt.ylabel(\"ACCURACY\")\n",
    "plt.title(\"Training and Testing ROC Curves\")\n",
    "plt.show()"
   ]
  },
  {
   "cell_type": "code",
   "execution_count": 49,
   "id": "084c98c0-f16f-4632-a853-cb7fb4152369",
   "metadata": {},
   "outputs": [
    {
     "data": {
      "image/png": "[encoded data removed]",
      "text/plain": [
       "<Figure size 640x480 with 2 Axes>"
      ]
     },
     "metadata": {},
     "output_type": "display_data"
    }
   ],
   "source": [
    "sns.heatmap(confusion_matrix(y_train,rf.predict(x_train_transformed)),annot=True)\n",
    "plt.show()"
   ]
  },
  {
   "cell_type": "code",
   "execution_count": 50,
   "id": "6cbf327f-099d-4cd8-84cb-8179be2d8bbd",
   "metadata": {},
   "outputs": [
    {
     "name": "stdout",
     "output_type": "stream",
     "text": [
      "              precision    recall  f1-score   support\n",
      "\n",
      "           0       0.99      1.00      1.00      2460\n",
      "           1       1.00      0.98      0.99      1004\n",
      "\n",
      "    accuracy                           0.99      3464\n",
      "   macro avg       1.00      0.99      0.99      3464\n",
      "weighted avg       0.99      0.99      0.99      3464\n",
      "\n"
     ]
    }
   ],
   "source": [
    "print(classification_report(y_train,rf.predict(x_train_transformed)))"
   ]
  },
  {
   "cell_type": "code",
   "execution_count": 51,
   "id": "14169bfa-9900-4619-8090-c4b63e1318ac",
   "metadata": {},
   "outputs": [
    {
     "data": {
      "image/png": "[encoded data removed]",
      "text/plain": [
       "<Figure size 640x480 with 2 Axes>"
      ]
     },
     "metadata": {},
     "output_type": "display_data"
    }
   ],
   "source": [
    "sns.heatmap(confusion_matrix(y_test,rf.predict(x_test_transformed)),annot=True)\n",
    "plt.show()"
   ]
  },
  {
   "cell_type": "code",
   "execution_count": 52,
   "id": "616a4cb2-7b95-4680-b1eb-faa31d6643e1",
   "metadata": {},
   "outputs": [
    {
     "name": "stdout",
     "output_type": "stream",
     "text": [
      "              precision    recall  f1-score   support\n",
      "\n",
      "           0       0.88      0.96      0.92      1212\n",
      "           1       0.88      0.68      0.77       495\n",
      "\n",
      "    accuracy                           0.88      1707\n",
      "   macro avg       0.88      0.82      0.84      1707\n",
      "weighted avg       0.88      0.88      0.88      1707\n",
      "\n"
     ]
    }
   ],
   "source": [
    "print(classification_report(y_test,rf.predict(x_test_transformed)))"
   ]
  },
  {
   "cell_type": "code",
   "execution_count": 53,
   "id": "bcab354b-91c4-433d-a6eb-9292cf65006a",
   "metadata": {},
   "outputs": [
    {
     "name": "stdout",
     "output_type": "stream",
     "text": [
      "0.8804920913884007\n"
     ]
    }
   ],
   "source": [
    "from sklearn.metrics import accuracy_score\n",
    "score=accuracy_score(y_test,rf.predict(x_test_transformed))\n",
    "print(score)"
   ]
  },
  {
   "cell_type": "code",
   "execution_count": null,
   "id": "9b657fad-4606-4376-8a43-99b83b47e0aa",
   "metadata": {},
   "outputs": [],
   "source": []
  }
 ],
 "metadata": {
  "kernelspec": {
   "display_name": "Python 3 (ipykernel)",
   "language": "python",
   "name": "python3"
  },
  "language_info": {
   "codemirror_mode": {
    "name": "ipython",
    "version": 3
   },
   "file_extension": ".py",
   "mimetype": "text/x-python",
   "name": "python",
   "nbconvert_exporter": "python",
   "pygments_lexer": "ipython3",
   "version": "3.11.5"
  }
 },
 "nbformat": 4,
 "nbformat_minor": 5
}
